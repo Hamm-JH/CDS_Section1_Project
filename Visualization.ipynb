{
 "cells": [
  {
   "cell_type": "code",
   "execution_count": 22,
   "metadata": {},
   "outputs": [],
   "source": [
    "import pandas as pd\n",
    "import numpy as np\n",
    "import matplotlib.pyplot as plt\n"
   ]
  },
  {
   "cell_type": "code",
   "execution_count": 23,
   "metadata": {},
   "outputs": [],
   "source": [
    "# 데이터 읽어오기\n",
    "df = pd.read_csv('vgames2_clean2.csv', index_col='Unnamed: 0')"
   ]
  },
  {
   "cell_type": "code",
   "execution_count": 24,
   "metadata": {},
   "outputs": [
    {
     "data": {
      "text/html": [
       "<div>\n",
       "<style scoped>\n",
       "    .dataframe tbody tr th:only-of-type {\n",
       "        vertical-align: middle;\n",
       "    }\n",
       "\n",
       "    .dataframe tbody tr th {\n",
       "        vertical-align: top;\n",
       "    }\n",
       "\n",
       "    .dataframe thead th {\n",
       "        text-align: right;\n",
       "    }\n",
       "</style>\n",
       "<table border=\"1\" class=\"dataframe\">\n",
       "  <thead>\n",
       "    <tr style=\"text-align: right;\">\n",
       "      <th></th>\n",
       "      <th>Name</th>\n",
       "      <th>Platform</th>\n",
       "      <th>Year</th>\n",
       "      <th>Genre</th>\n",
       "      <th>Publisher</th>\n",
       "      <th>NA_Sales</th>\n",
       "      <th>EU_Sales</th>\n",
       "      <th>JP_Sales</th>\n",
       "      <th>Other_Sales</th>\n",
       "      <th>Total_Sales</th>\n",
       "    </tr>\n",
       "  </thead>\n",
       "  <tbody>\n",
       "    <tr>\n",
       "      <th>1</th>\n",
       "      <td>Candace Kane's Candy Factory</td>\n",
       "      <td>DS</td>\n",
       "      <td>2008</td>\n",
       "      <td>Action</td>\n",
       "      <td>Destineer</td>\n",
       "      <td>0.04</td>\n",
       "      <td>0.00</td>\n",
       "      <td>0.00</td>\n",
       "      <td>0.00</td>\n",
       "      <td>0.04</td>\n",
       "    </tr>\n",
       "    <tr>\n",
       "      <th>2</th>\n",
       "      <td>The Munchables</td>\n",
       "      <td>Wii</td>\n",
       "      <td>2009</td>\n",
       "      <td>Action</td>\n",
       "      <td>Namco Bandai Games</td>\n",
       "      <td>0.17</td>\n",
       "      <td>0.00</td>\n",
       "      <td>0.00</td>\n",
       "      <td>0.01</td>\n",
       "      <td>0.18</td>\n",
       "    </tr>\n",
       "    <tr>\n",
       "      <th>3</th>\n",
       "      <td>Otome wa Oanesama Boku ni Koi Shiteru Portable</td>\n",
       "      <td>PSP</td>\n",
       "      <td>2010</td>\n",
       "      <td>Adventure</td>\n",
       "      <td>Alchemist</td>\n",
       "      <td>0.00</td>\n",
       "      <td>0.00</td>\n",
       "      <td>0.02</td>\n",
       "      <td>0.00</td>\n",
       "      <td>0.02</td>\n",
       "    </tr>\n",
       "    <tr>\n",
       "      <th>4</th>\n",
       "      <td>Deal or No Deal: Special Edition</td>\n",
       "      <td>DS</td>\n",
       "      <td>2010</td>\n",
       "      <td>Misc</td>\n",
       "      <td>Zoo Games</td>\n",
       "      <td>0.04</td>\n",
       "      <td>0.00</td>\n",
       "      <td>0.00</td>\n",
       "      <td>0.00</td>\n",
       "      <td>0.04</td>\n",
       "    </tr>\n",
       "    <tr>\n",
       "      <th>5</th>\n",
       "      <td>Ben 10 Ultimate Alien: Cosmic Destruction</td>\n",
       "      <td>PS3</td>\n",
       "      <td>2010</td>\n",
       "      <td>Platform</td>\n",
       "      <td>D3Publisher</td>\n",
       "      <td>0.12</td>\n",
       "      <td>0.09</td>\n",
       "      <td>0.00</td>\n",
       "      <td>0.04</td>\n",
       "      <td>0.25</td>\n",
       "    </tr>\n",
       "    <tr>\n",
       "      <th>...</th>\n",
       "      <td>...</td>\n",
       "      <td>...</td>\n",
       "      <td>...</td>\n",
       "      <td>...</td>\n",
       "      <td>...</td>\n",
       "      <td>...</td>\n",
       "      <td>...</td>\n",
       "      <td>...</td>\n",
       "      <td>...</td>\n",
       "      <td>...</td>\n",
       "    </tr>\n",
       "    <tr>\n",
       "      <th>16594</th>\n",
       "      <td>Ice Age 2: The Meltdown</td>\n",
       "      <td>GC</td>\n",
       "      <td>2006</td>\n",
       "      <td>Platform</td>\n",
       "      <td>Vivendi Games</td>\n",
       "      <td>0.15</td>\n",
       "      <td>0.04</td>\n",
       "      <td>0.00</td>\n",
       "      <td>0.01</td>\n",
       "      <td>0.20</td>\n",
       "    </tr>\n",
       "    <tr>\n",
       "      <th>16595</th>\n",
       "      <td>Rainbow Islands: Revolution</td>\n",
       "      <td>PSP</td>\n",
       "      <td>2005</td>\n",
       "      <td>Action</td>\n",
       "      <td>Rising Star Games</td>\n",
       "      <td>0.01</td>\n",
       "      <td>0.00</td>\n",
       "      <td>0.00</td>\n",
       "      <td>0.00</td>\n",
       "      <td>0.01</td>\n",
       "    </tr>\n",
       "    <tr>\n",
       "      <th>16596</th>\n",
       "      <td>NBA 2K16</td>\n",
       "      <td>PS3</td>\n",
       "      <td>2015</td>\n",
       "      <td>Sports</td>\n",
       "      <td>Take-Two Interactive</td>\n",
       "      <td>0.44</td>\n",
       "      <td>0.19</td>\n",
       "      <td>0.03</td>\n",
       "      <td>0.13</td>\n",
       "      <td>0.79</td>\n",
       "    </tr>\n",
       "    <tr>\n",
       "      <th>16597</th>\n",
       "      <td>Toukiden: The Age of Demons</td>\n",
       "      <td>PSV</td>\n",
       "      <td>2013</td>\n",
       "      <td>Action</td>\n",
       "      <td>Tecmo Koei</td>\n",
       "      <td>0.05</td>\n",
       "      <td>0.05</td>\n",
       "      <td>0.25</td>\n",
       "      <td>0.03</td>\n",
       "      <td>0.38</td>\n",
       "    </tr>\n",
       "    <tr>\n",
       "      <th>16598</th>\n",
       "      <td>The King of Fighters '95</td>\n",
       "      <td>PS</td>\n",
       "      <td>1996</td>\n",
       "      <td>Fighting</td>\n",
       "      <td>Sony Computer Entertainment</td>\n",
       "      <td>0.00</td>\n",
       "      <td>0.00</td>\n",
       "      <td>0.16</td>\n",
       "      <td>0.01</td>\n",
       "      <td>0.17</td>\n",
       "    </tr>\n",
       "  </tbody>\n",
       "</table>\n",
       "<p>16154 rows × 10 columns</p>\n",
       "</div>"
      ],
      "text/plain": [
       "                                                 Name Platform  Year  \\\n",
       "1                        Candace Kane's Candy Factory       DS  2008   \n",
       "2                                      The Munchables      Wii  2009   \n",
       "3      Otome wa Oanesama Boku ni Koi Shiteru Portable      PSP  2010   \n",
       "4                    Deal or No Deal: Special Edition       DS  2010   \n",
       "5           Ben 10 Ultimate Alien: Cosmic Destruction      PS3  2010   \n",
       "...                                               ...      ...   ...   \n",
       "16594                         Ice Age 2: The Meltdown       GC  2006   \n",
       "16595                     Rainbow Islands: Revolution      PSP  2005   \n",
       "16596                                        NBA 2K16      PS3  2015   \n",
       "16597                     Toukiden: The Age of Demons      PSV  2013   \n",
       "16598                        The King of Fighters '95       PS  1996   \n",
       "\n",
       "           Genre                    Publisher  NA_Sales  EU_Sales  JP_Sales  \\\n",
       "1         Action                    Destineer      0.04      0.00      0.00   \n",
       "2         Action           Namco Bandai Games      0.17      0.00      0.00   \n",
       "3      Adventure                    Alchemist      0.00      0.00      0.02   \n",
       "4           Misc                    Zoo Games      0.04      0.00      0.00   \n",
       "5       Platform                  D3Publisher      0.12      0.09      0.00   \n",
       "...          ...                          ...       ...       ...       ...   \n",
       "16594   Platform                Vivendi Games      0.15      0.04      0.00   \n",
       "16595     Action            Rising Star Games      0.01      0.00      0.00   \n",
       "16596     Sports         Take-Two Interactive      0.44      0.19      0.03   \n",
       "16597     Action                   Tecmo Koei      0.05      0.05      0.25   \n",
       "16598   Fighting  Sony Computer Entertainment      0.00      0.00      0.16   \n",
       "\n",
       "       Other_Sales  Total_Sales  \n",
       "1             0.00         0.04  \n",
       "2             0.01         0.18  \n",
       "3             0.00         0.02  \n",
       "4             0.00         0.04  \n",
       "5             0.04         0.25  \n",
       "...            ...          ...  \n",
       "16594         0.01         0.20  \n",
       "16595         0.00         0.01  \n",
       "16596         0.13         0.79  \n",
       "16597         0.03         0.38  \n",
       "16598         0.01         0.17  \n",
       "\n",
       "[16154 rows x 10 columns]"
      ]
     },
     "execution_count": 24,
     "metadata": {},
     "output_type": "execute_result"
    }
   ],
   "source": [
    "df"
   ]
  },
  {
   "cell_type": "code",
   "execution_count": 28,
   "metadata": {},
   "outputs": [],
   "source": [
    "def perPlot(df:pd.DataFrame, groupKeys:list[str], kind:str, valueKeys:list[str]):\n",
    "    plot = []\n",
    "    # indexer = True if len(groupKeys) == 1 else False\n",
    "    indexer = True\n",
    "\n",
    "    for vKey in valueKeys:\n",
    "        fig, ax = plt.subplots(figsize=(15, 5))\n",
    "\n",
    "        data = df.groupby(groupKeys[0], as_index=indexer)[vKey].mean() # 평균용\n",
    "        # print(data)\n",
    "\n",
    "        if kind == 'plot':\n",
    "            plt.plot(data, label=vKey)\n",
    "        elif kind == 'bar':\n",
    "            plt.bar(data.index, data, label=vKey)\n",
    "        elif kind == 'scatter':\n",
    "            plt.scatter(data.index, data, label=vKey)\n",
    "\n",
    "        plt.xlabel(groupKeys[0])\n",
    "        plt.ylabel('selling rate(k)')\n",
    "        \n",
    "        plt.legend(loc='upper right')\n",
    "\n",
    "        plot.append(fig)\n",
    "\n",
    "    return plot"
   ]
  },
  {
   "cell_type": "code",
   "execution_count": 29,
   "metadata": {},
   "outputs": [],
   "source": [
    "def totalPlot(df:pd.DataFrame, groupKeys:list[str], kind:str, valueKeys:list[str]):\n",
    "    plot = []\n",
    "    # indexer = True if len(groupKeys) == 1 else False\n",
    "    indexer = True\n",
    "\n",
    "    fig, ax = plt.subplots(figsize=(15, 5))\n",
    "\n",
    "    # print(df.groupby(['Year', 'Genre']).count()['EU_Sales'].unstack().plot(ax=ax))\n",
    "\n",
    "    # print(df.groupby(['Year', 'Genre']).mean()['EU_Sales'].unstack().plot(ax=ax, kind='bar'))\n",
    "\n",
    "    # 분류할 데이터 컬럼별 연산처리\n",
    "    for vKey in valueKeys:\n",
    "        data = df.groupby(groupKeys[0])[vKey].mean() # 평균용\n",
    "        # data = df.groupby(groupKeys[0], as_index=indexer)[vKey].mean() # 평균용\n",
    "\n",
    "        # print(type(data)) # 최종은 Series가 되어야 함\n",
    "        # print(df.groupby(groupKeys[0])) # DataFrameGroupBy\n",
    "        # print(df.groupby(groupKeys[0]).get_group(1980)) # DataFrame\n",
    "\n",
    "        if kind == 'plot':\n",
    "            plt.plot(data, label=vKey)\n",
    "        elif kind == 'bar':\n",
    "            plt.bar(data.index, data, label=vKey)\n",
    "        elif kind == 'scatter':\n",
    "            plt.scatter(data.index, data, label=vKey)\n",
    "\n",
    "    \n",
    "    \n",
    "\n",
    "    plt.xlabel(groupKeys[0])\n",
    "    plt.ylabel('selling rate(k)')\n",
    "    \n",
    "    plt.legend(loc='upper right')\n",
    "\n",
    "    plot.append(fig)\n",
    "\n",
    "    return plot"
   ]
  },
  {
   "cell_type": "code",
   "execution_count": 30,
   "metadata": {},
   "outputs": [],
   "source": [
    "#----------------------------------------------------------------------------------------------------------------------------------\n",
    "#----------------------------------------------------------------------------------------------------------------------------------\n",
    "def grouping(df:pd.DataFrame, groupKeys:list[str], kind='plot', valueKeys = ['NA_Sales', 'EU_Sales', 'JP_Sales', 'Other_Sales'], showOption = 'total'):\n",
    "    df1 = df.groupby(groupKeys, as_index=False)\n",
    "    plots = []\n",
    "\n",
    "    # keys = df1.groups.keys()\n",
    "    # print(keys)\n",
    "    # print(df1.get_group((1980, 'Action'))['NA_Sales'].mean())\n",
    "    # 시리즈는 받는다\n",
    "    # print(df.groupby(groupKeys)['NA_Sales'].mean())\n",
    "\n",
    "    if len(groupKeys) == 1:\n",
    "        if showOption == 'total':\n",
    "            plots = totalPlot(df, groupKeys, kind, valueKeys)\n",
    "        elif showOption == 'per':\n",
    "            plots = perPlot(df, groupKeys, kind, valueKeys)\n",
    "    else:\n",
    "        plots = totalPlot(df, groupKeys, kind, valueKeys)\n",
    "        # plots = perPlot(df, groupKeys, kind, valueKeys)\n",
    "\n",
    "    for plot in plots:\n",
    "        plot.show()\n",
    "    \n",
    "# grouping(df, groupKeys=['Year', 'Genre'], kind='plot', showOption='total')\n",
    "# grouping(df, groupKeys=['Year', 'Genre'], kind='bar', showOption='total', valueKeys=['NA_Sales', 'EU_Sales', 'JP_Sales', 'Other_Sales'])"
   ]
  },
  {
   "cell_type": "code",
   "execution_count": 31,
   "metadata": {},
   "outputs": [
    {
     "name": "stderr",
     "output_type": "stream",
     "text": [
      "C:\\Users\\rimmo\\AppData\\Local\\Temp\\ipykernel_37784\\3293176663.py:23: UserWarning: Matplotlib is currently using module://matplotlib_inline.backend_inline, which is a non-GUI backend, so cannot show the figure.\n",
      "  plot.show()\n"
     ]
    },
    {
     "data": {
      "image/png": "[encoded data removed]",
      "text/plain": [
       "<Figure size 1500x500 with 1 Axes>"
      ]
     },
     "metadata": {},
     "output_type": "display_data"
    }
   ],
   "source": [
    "# grouping 메서드 옵션\n",
    "# kind : plot, bar, scatter\n",
    "# showOption : total, per\n",
    "# 연도별 판매량\n",
    "# 1985, 1996, 2013년의 NA 판매량이 뜀\n",
    "grouping(df, groupKeys=['Year'], kind='bar', showOption='total')"
   ]
  },
  {
   "cell_type": "code",
   "execution_count": 32,
   "metadata": {},
   "outputs": [
    {
     "name": "stderr",
     "output_type": "stream",
     "text": [
      "C:\\Users\\rimmo\\AppData\\Local\\Temp\\ipykernel_37784\\3293176663.py:23: UserWarning: Matplotlib is currently using module://matplotlib_inline.backend_inline, which is a non-GUI backend, so cannot show the figure.\n",
      "  plot.show()\n"
     ]
    },
    {
     "data": {
      "image/png": "[encoded data removed]",
      "text/plain": [
       "<Figure size 1500x500 with 1 Axes>"
      ]
     },
     "metadata": {},
     "output_type": "display_data"
    }
   ],
   "source": [
    "# Action, Racing, Shooter, Simulation, Sports 장르에서 NA_Sales 판매량이 두드러짐\n",
    "# Platform, Shooter 장르에서 EU_Sales 판매량이 두드러짐\n",
    "# Role-Playing, Fighting, Simulation, Strategy 장르에서 JP_Sales 판매량이 두드러짐\n",
    "grouping(df, groupKeys=['Genre'], kind='bar', showOption='total')"
   ]
  },
  {
   "cell_type": "code",
   "execution_count": 33,
   "metadata": {},
   "outputs": [
    {
     "name": "stderr",
     "output_type": "stream",
     "text": [
      "C:\\Users\\rimmo\\AppData\\Local\\Temp\\ipykernel_37784\\3293176663.py:23: UserWarning: Matplotlib is currently using module://matplotlib_inline.backend_inline, which is a non-GUI backend, so cannot show the figure.\n",
      "  plot.show()\n"
     ]
    },
    {
     "data": {
      "image/png": "[encoded data removed]",
      "text/plain": [
       "<Figure size 1500x500 with 1 Axes>"
      ]
     },
     "metadata": {},
     "output_type": "display_data"
    }
   ],
   "source": [
    "# 총 판매량에서\n",
    "# GB는 JP에서 압도적으로 많이 팔림\n",
    "# N64는 NA에서 압도적으로 팔림\n",
    "# PS4, X360은 NA에서 압도적으로 팔림\n",
    "grouping(df, groupKeys=['Platform'], kind='bar', showOption='total')"
   ]
  },
  {
   "cell_type": "code",
   "execution_count": null,
   "metadata": {},
   "outputs": [],
   "source": [
    "fig, ax = plt.subplots(figsize=(15, 5))\n",
    "df.groupby(['Year', 'Genre']).count()['EU_Sales'].unstack().plot(ax=ax)\n",
    "# df.groupby(['Year', 'Genre']).mean()['EU_Sales'].unstack().plot(ax=ax)"
   ]
  },
  {
   "cell_type": "code",
   "execution_count": null,
   "metadata": {},
   "outputs": [],
   "source": [
    "df[df['Platform'] == 'XOne']"
   ]
  },
  {
   "cell_type": "code",
   "execution_count": null,
   "metadata": {},
   "outputs": [],
   "source": [
    "# grouping 메서드 옵션\n",
    "# kind : plot, bar, scatter\n",
    "# showOption : total, per\n",
    "# 연도별 판매량\n",
    "# 1985, 1996, 2013년의 NA 판매량이 뜀\n",
    "# grouping(df, groupKeys=['Year'], kind='bar', showOption='total')\n",
    "\n",
    "# Action, Racing, Shooter, Simulation, Sports 장르에서 NA_Sales 판매량이 두드러짐\n",
    "# Platform, Shooter 장르에서 EU_Sales 판매량이 두드러짐\n",
    "# Role-Playing, Fighting, Simulation, Strategy 장르에서 JP_Sales 판매량이 두드러짐\n",
    "# grouping(df, groupKeys=['Genre'], kind='bar', showOption='total')\n",
    "\n",
    "# 총 판매량에서\n",
    "# GB는 JP에서 압도적으로 많이 팔림\n",
    "# N64는 NA에서 압도적으로 팔림\n",
    "# PS4, X360은 NA에서 압도적으로 팔림\n",
    "# grouping(df, groupKeys=['Platform'], kind='bar', showOption='total')\n",
    "\n",
    "\n",
    "# grouping(df, groupKeys=['Year', 'Genre'], kind='bar', showOption='total')\n",
    "\n",
    "# df.groupby(['Year', 'Genre'], as_index=False).mean()"
   ]
  },
  {
   "cell_type": "code",
   "execution_count": 479,
   "metadata": {},
   "outputs": [
    {
     "name": "stdout",
     "output_type": "stream",
     "text": [
      "사용 계산식들 모음\n"
     ]
    }
   ],
   "source": [
    "df1 = df.groupby(['Year'], as_index=False)\n",
    "\n",
    "# df1.min() # 최소\n",
    "# df1.max() # 최대\n",
    "# df1.mean() # 평균\n",
    "# df1.median() # 중앙값\n",
    "# df1.get_group(1981).mode() # 최빈값\n",
    "# df1.std() # 표준편차\n",
    "# df1.var() # 분산\n",
    "# df1.mad() # 평균절대편차\n",
    "# df1.cummin() # 누적 최소\n",
    "# df1.cummax() # 누적 최대\n",
    "# df1.cumsum() # 누적합\n",
    "# df1.cumprod() # 누적곱\n",
    "# df1.quantile() # 분위수\n",
    "\n",
    "## 심화\n",
    "# df1.cov() # 공분산\n",
    "# df1.get_group(1981).kurt() # 첨도\n",
    "# df1.sem() # 표준오차\n",
    "# df1.skew() # 왜도 / 비대칭도\n",
    "\n",
    "# df1.corr() # 상관계수(corr) # 두 변수간 관계성 표현에 사용 # 매우 중요할듯\n",
    "# df1.corr(method='pearson') # 피어슨 상관계수 (+1 가까울수록 양의 상관관계), (-1 가까울수록 음의 상관관계)\n",
    "# df1.corr(method='kendall') # 켄달-타우 상관계수 (두 변수간의 연관성 계산, 예) 순위 데이터의 흐름이 두 변수가 유사하다 )\n",
    "# df1.corr(method='spearman') # 스피어먼 상관계수 (두 변수간 순위 계산, 같으면 1에 가까움, 다르면 -1에 가까움)\n",
    "\n",
    "# plt.plot(df.groupby('Year')['NA_Sales'].mean())\n",
    "# plt.show()\n",
    "\n",
    "print('사용 계산식들 모음')\n"
   ]
  },
  {
   "cell_type": "code",
   "execution_count": null,
   "metadata": {},
   "outputs": [],
   "source": [
    "# 테스트 코드\n",
    "df1 = df.groupby(['Year'], as_index=False)\n",
    "df1\n",
    "# df1.boxplot()\n",
    "# df1['NA_Sales'].mean()\n",
    "\n",
    "# # 1980 연도 데이터 모아오기\n",
    "# df.groupby(['Year'], as_index=False).get_group(1980)\n",
    "\n",
    "# # 1981\n",
    "# df.groupby(['Year'], as_index=False).get_group(1981)\n",
    "\n",
    "# 1985\n",
    "# df.groupby(['Year'], as_index=False).get_group(1985)\n",
    "\n",
    "\n",
    "# 3 실행할 "
   ]
  }
 ],
 "metadata": {
  "kernelspec": {
   "display_name": "Python 3.9.13 ('base')",
   "language": "python",
   "name": "python3"
  },
  "language_info": {
   "codemirror_mode": {
    "name": "ipython",
    "version": 3
   },
   "file_extension": ".py",
   "mimetype": "text/x-python",
   "name": "python",
   "nbconvert_exporter": "python",
   "pygments_lexer": "ipython3",
   "version": "3.9.13"
  },
  "orig_nbformat": 4,
  "vscode": {
   "interpreter": {
    "hash": "1bacc43f3a5794ff21941cbe3bd67ad18cddb0ff963b4f1013ddec33c94b376d"
   }
  }
 },
 "nbformat": 4,
 "nbformat_minor": 2
}
